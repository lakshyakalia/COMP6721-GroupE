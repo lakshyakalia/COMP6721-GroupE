{
  "nbformat": 4,
  "nbformat_minor": 0,
  "metadata": {
    "colab": {
      "provenance": []
    },
    "kernelspec": {
      "name": "python3",
      "display_name": "Python 3"
    },
    "language_info": {
      "name": "python"
    }
  },
  "cells": [
    {
      "cell_type": "code",
      "execution_count": 3,
      "metadata": {
        "colab": {
          "base_uri": "https://localhost:8080/"
        },
        "id": "41jT2ObkJVKJ",
        "outputId": "5f046d0f-1934-4391-cf9b-eadbd335aa2b"
      },
      "outputs": [
        {
          "output_type": "stream",
          "name": "stdout",
          "text": [
            "Mounted at /content/drive\n"
          ]
        }
      ],
      "source": [
        "import torch\n",
        "from torchvision.transforms import v2\n",
        "from torchvision.models import shufflenet_v2_x0_5\n",
        "from sklearn.model_selection import train_test_split\n",
        "import numpy as np\n",
        "from numpy import asarray\n",
        "from PIL import Image\n",
        "from google.colab import drive\n",
        "import pathlib\n",
        "import os\n",
        "from tqdm import tqdm\n",
        "import cv2\n",
        "import skimage\n",
        "\n",
        "drive.mount('/content/drive', force_remount=True)"
      ]
    },
    {
      "cell_type": "code",
      "source": [
        "datasetPath='/content/drive/MyDrive/plant_leaf_dataset/dataset3/'\n",
        "\n",
        "def get_data(folder):\n",
        "    X = []\n",
        "    y = []\n",
        "    for folderName in os.listdir(folder):\n",
        "        if not folderName.startswith('.'):\n",
        "            if folderName in ['Grapes']:\n",
        "                label = 0\n",
        "            elif folderName in ['Cherry']:\n",
        "                label = 1\n",
        "            elif folderName in ['Blueberry']:\n",
        "                label = 2\n",
        "            elif folderName in ['Apple']:\n",
        "                label = 3\n",
        "            for image_filename in tqdm(os.listdir(folder + folderName)):\n",
        "                img_file=Image.open(folder + folderName + '/' + image_filename).resize((224,224))\n",
        "                img_arr = np.asarray(img_file)\n",
        "                X.append(img_arr)\n",
        "                y.append(label)\n",
        "    X = np.asarray(X)\n",
        "    y = np.asarray(y)\n",
        "    return X,y\n",
        "X, y = get_data(datasetPath)"
      ],
      "metadata": {
        "colab": {
          "base_uri": "https://localhost:8080/"
        },
        "id": "crJdOa08KHa9",
        "outputId": "90a8da08-f98a-4477-f226-b082ce59087c"
      },
      "execution_count": 5,
      "outputs": [
        {
          "output_type": "stream",
          "name": "stderr",
          "text": [
            "100%|██████████| 1423/1423 [00:44<00:00, 32.18it/s]\n",
            "100%|██████████| 1854/1854 [00:59<00:00, 31.38it/s]\n",
            "100%|██████████| 3004/3004 [01:50<00:00, 27.22it/s]\n",
            "100%|██████████| 3290/3290 [02:30<00:00, 21.93it/s]\n"
          ]
        }
      ]
    },
    {
      "cell_type": "code",
      "source": [
        "#Need to create the CNN"
      ],
      "metadata": {
        "colab": {
          "base_uri": "https://localhost:8080/"
        },
        "id": "-Vsas_s9dLW0",
        "outputId": "ad1c0d71-96bd-440d-a010-3d8b4c2ffa1b"
      },
      "execution_count": 9,
      "outputs": [
        {
          "output_type": "stream",
          "name": "stdout",
          "text": [
            "(9571, 224, 224, 3)\n",
            "(9571,)\n"
          ]
        }
      ]
    }
  ]
}