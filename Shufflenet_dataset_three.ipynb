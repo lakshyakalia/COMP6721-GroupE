{
  "nbformat": 4,
  "nbformat_minor": 0,
  "metadata": {
    "colab": {
      "provenance": []
    },
    "kernelspec": {
      "name": "python3",
      "display_name": "Python 3"
    },
    "language_info": {
      "name": "python"
    }
  },
  "cells": [
    {
      "cell_type": "code",
      "execution_count": null,
      "metadata": {
        "id": "xHYv7TZu4Ddr",
        "colab": {
          "base_uri": "https://localhost:8080/"
        },
        "outputId": "fd92d618-87ae-4173-a3b3-0be9abf3d7c8"
      },
      "outputs": [
        {
          "output_type": "stream",
          "name": "stdout",
          "text": [
            "Drive already mounted at /content/drive; to attempt to forcibly remount, call drive.mount(\"/content/drive\", force_remount=True).\n"
          ]
        }
      ],
      "source": [
        "from google.colab import drive\n",
        "drive.mount('/content/drive')"
      ]
    },
    {
      "cell_type": "code",
      "source": [
        "import pathlib"
      ],
      "metadata": {
        "id": "Ud4IxJrL4S7B"
      },
      "execution_count": null,
      "outputs": []
    },
    {
      "cell_type": "code",
      "source": [
        "dataset_url='/content/drive/MyDrive/plant_leaf_dataset/small_dataset3/'"
      ],
      "metadata": {
        "id": "0v-xO4xx4U3w"
      },
      "execution_count": null,
      "outputs": []
    },
    {
      "cell_type": "code",
      "source": [
        "dataset_dir=pathlib.Path(dataset_url)\n",
        "dataset_dir"
      ],
      "metadata": {
        "id": "4Z5o9DPM4Wzk",
        "colab": {
          "base_uri": "https://localhost:8080/"
        },
        "outputId": "121029c0-3d21-45d4-c2ff-f6f346360f83"
      },
      "execution_count": null,
      "outputs": [
        {
          "output_type": "execute_result",
          "data": {
            "text/plain": [
              "PosixPath('/content/drive/MyDrive/plant_leaf_dataset/small_dataset3')"
            ]
          },
          "metadata": {},
          "execution_count": 4
        }
      ]
    },
    {
      "cell_type": "code",
      "source": [
        "dataset_dict={\n",
        "    'Apple':list(dataset_dir.glob('Apple/*JPG')),\n",
        "    'Blueberry':list(dataset_dir.glob('Blueberry/*JPG')),\n",
        "    'Cherry':list(dataset_dir.glob('Cherry/*JPG')),\n",
        "    'Grapes':list(dataset_dir.glob('Grapes/*JPG'))\n",
        "}\n"
      ],
      "metadata": {
        "id": "M-LsSPJg4Y_Q"
      },
      "execution_count": null,
      "outputs": []
    },
    {
      "cell_type": "code",
      "source": [
        "dataset_label={\n",
        "    'Apple':0,\n",
        "    'Blueberry':1,\n",
        "    'Cherry':2,\n",
        "    'Grapes':3\n",
        "}"
      ],
      "metadata": {
        "id": "FkS3ECWr4bI0"
      },
      "execution_count": null,
      "outputs": []
    },
    {
      "cell_type": "code",
      "source": [
        "len(dataset_dict['Cherry'])"
      ],
      "metadata": {
        "colab": {
          "base_uri": "https://localhost:8080/"
        },
        "id": "VfbgYbhi4fIM",
        "outputId": "ff1da415-9f78-4a97-af66-4adfc66f3d1e"
      },
      "execution_count": null,
      "outputs": [
        {
          "output_type": "execute_result",
          "data": {
            "text/plain": [
              "1000"
            ]
          },
          "metadata": {},
          "execution_count": 7
        }
      ]
    },
    {
      "cell_type": "code",
      "source": [
        "import torch\n",
        "from PIL import Image"
      ],
      "metadata": {
        "id": "d1aR2Pi64i5Z"
      },
      "execution_count": null,
      "outputs": []
    },
    {
      "cell_type": "code",
      "source": [
        "%%time\n",
        "X,y=[],[]\n",
        "count=0\n",
        "for key in dataset_dict:\n",
        "  for values in dataset_dict[key]:\n",
        "    image=Image.open(values)\n",
        "    X.append(image)\n",
        "    y.append(dataset_label[key])\n",
        "    count+=1\n",
        "    if (count%100==0):\n",
        "      print(f\"{count} images added to the list\")"
      ],
      "metadata": {
        "colab": {
          "base_uri": "https://localhost:8080/"
        },
        "id": "ADJ74Hz54nGX",
        "outputId": "c107434f-ed06-48a3-f85a-61c24e5b6f47"
      },
      "execution_count": null,
      "outputs": [
        {
          "output_type": "stream",
          "name": "stdout",
          "text": [
            "100 images added to the list\n",
            "200 images added to the list\n",
            "300 images added to the list\n",
            "400 images added to the list\n",
            "500 images added to the list\n",
            "600 images added to the list\n",
            "700 images added to the list\n",
            "800 images added to the list\n",
            "900 images added to the list\n",
            "1000 images added to the list\n",
            "1100 images added to the list\n",
            "1200 images added to the list\n",
            "1300 images added to the list\n",
            "1400 images added to the list\n",
            "1500 images added to the list\n",
            "1600 images added to the list\n",
            "1700 images added to the list\n",
            "1800 images added to the list\n",
            "1900 images added to the list\n",
            "2000 images added to the list\n",
            "2100 images added to the list\n",
            "2200 images added to the list\n",
            "2300 images added to the list\n",
            "2400 images added to the list\n",
            "2500 images added to the list\n",
            "2600 images added to the list\n",
            "2700 images added to the list\n",
            "2800 images added to the list\n",
            "2900 images added to the list\n",
            "3000 images added to the list\n",
            "3100 images added to the list\n",
            "3200 images added to the list\n",
            "3300 images added to the list\n",
            "3400 images added to the list\n",
            "3500 images added to the list\n",
            "3600 images added to the list\n",
            "3700 images added to the list\n",
            "3800 images added to the list\n",
            "3900 images added to the list\n",
            "4000 images added to the list\n",
            "4100 images added to the list\n",
            "4200 images added to the list\n",
            "4300 images added to the list\n",
            "4400 images added to the list\n",
            "4500 images added to the list\n",
            "4600 images added to the list\n",
            "4700 images added to the list\n",
            "4800 images added to the list\n",
            "4900 images added to the list\n",
            "5000 images added to the list\n",
            "5100 images added to the list\n",
            "CPU times: user 3.41 s, sys: 1.88 s, total: 5.29 s\n",
            "Wall time: 48.4 s\n"
          ]
        }
      ]
    },
    {
      "cell_type": "code",
      "source": [
        "from sklearn.model_selection import train_test_split"
      ],
      "metadata": {
        "id": "-H_NtaZn49by"
      },
      "execution_count": null,
      "outputs": []
    },
    {
      "cell_type": "code",
      "source": [
        "(X_train,X_test,y_train,y_test)=train_test_split(X,y,test_size=0.2,random_state=0)"
      ],
      "metadata": {
        "id": "bRxplUFi5RXw"
      },
      "execution_count": null,
      "outputs": []
    },
    {
      "cell_type": "code",
      "source": [
        "import torch\n",
        "import torch.nn as nn\n",
        "import torchvision.models as models\n",
        "from torch.utils.data import DataLoader, Dataset\n",
        "import torchvision.transforms as transforms\n",
        "from torch.utils.data.dataset import random_split"
      ],
      "metadata": {
        "id": "5FDq7D4I5TQc"
      },
      "execution_count": null,
      "outputs": []
    },
    {
      "cell_type": "code",
      "source": [
        "TOTAL_CLASSES = 4\n",
        "NUM_EPOCHS = 20\n",
        "batch_size = 32"
      ],
      "metadata": {
        "id": "tfqP2hka5VB0"
      },
      "execution_count": null,
      "outputs": []
    },
    {
      "cell_type": "code",
      "source": [
        "from torchvision.models import shufflenet_v2_x0_5\n",
        "model = torch.hub.load('pytorch/vision:v0.10.0', 'shufflenet_v2_x0_5', weights=None)"
      ],
      "metadata": {
        "id": "Zi0aINO85e90",
        "colab": {
          "base_uri": "https://localhost:8080/"
        },
        "outputId": "ad2fd8d2-aa70-4989-836e-9a6190a39343"
      },
      "execution_count": null,
      "outputs": [
        {
          "output_type": "stream",
          "name": "stderr",
          "text": [
            "Using cache found in /root/.cache/torch/hub/pytorch_vision_v0.10.0\n"
          ]
        }
      ]
    },
    {
      "cell_type": "code",
      "source": [
        "num_classes = TOTAL_CLASSES #len(classification_class)\n",
        "in_features = model.fc.in_features\n",
        "model.fc = nn.Linear(in_features, num_classes)"
      ],
      "metadata": {
        "id": "IVltK2pX5YtY"
      },
      "execution_count": null,
      "outputs": []
    },
    {
      "cell_type": "code",
      "source": [
        "##loss function cross entropy loss\n",
        "criterion = nn.CrossEntropyLoss()"
      ],
      "metadata": {
        "id": "1CqX3QEy6ou3"
      },
      "execution_count": null,
      "outputs": []
    },
    {
      "cell_type": "code",
      "source": [
        "## Optimizer stocastic gradient descent\n",
        "optimizer = torch.optim.SGD(model.parameters(), lr=0.01, momentum=0.9)"
      ],
      "metadata": {
        "id": "AugBvU_l6WTy"
      },
      "execution_count": null,
      "outputs": []
    },
    {
      "cell_type": "code",
      "source": [
        "#Making the dataset ready for taining out of x_train and y_train\n",
        "\n",
        "class CustomDataset(Dataset):\n",
        "    def __init__(self, images, labels, transform=None):\n",
        "        self.images = images\n",
        "        self.labels = labels\n",
        "        self.transform = transform\n",
        "\n",
        "    def __len__(self):\n",
        "        return len(self.images)\n",
        "\n",
        "    def __getitem__(self, idx):\n",
        "        image = self.images[idx]\n",
        "        label = self.labels[idx]\n",
        "\n",
        "        if self.transform:\n",
        "            image = self.transform(image)\n",
        "\n",
        "        return image, label\n",
        "\n",
        "# Define your transformations\n",
        "transform = transforms.Compose([\n",
        "    transforms.ToTensor(),\n",
        "    transforms.Normalize(mean=[0.485, 0.456, 0.406],\n",
        "                         std=[0.229, 0.224, 0.225])\n",
        "])\n",
        "\n",
        "# Create your Dataset\n",
        "dataset = CustomDataset(images=X_train, labels=y_train, transform=transform)"
      ],
      "metadata": {
        "id": "WcP8lQBt6yDC"
      },
      "execution_count": null,
      "outputs": []
    },
    {
      "cell_type": "code",
      "source": [
        "# Once the dataset is ready split the x_train, y_train dataset into training and validation dataset\n",
        "# 80% for training 20% for validation\n",
        "train_size = int(0.8 * len(dataset))\n",
        "val_size = len(dataset) - train_size\n",
        "train_dataset, validation_dataset = random_split(dataset, [train_size, val_size])\n",
        "print(len(train_dataset))\n",
        "print(len(validation_dataset))"
      ],
      "metadata": {
        "colab": {
          "base_uri": "https://localhost:8080/"
        },
        "id": "x19apNOr65kz",
        "outputId": "8df244e9-bf27-4f05-e803-5cd7de23bcdc"
      },
      "execution_count": null,
      "outputs": [
        {
          "output_type": "stream",
          "name": "stdout",
          "text": [
            "3294\n",
            "824\n"
          ]
        }
      ]
    },
    {
      "cell_type": "code",
      "source": [
        "# Create data loader to feed the CNN\n",
        "train_loader = DataLoader(train_dataset, batch_size=batch_size, shuffle=True)\n",
        "validation_loader = DataLoader(validation_dataset, batch_size=batch_size, shuffle=True)\n",
        "test_dataset = CustomDataset(images=X_test, labels=y_test, transform=transform)\n",
        "test_loader = DataLoader(test_dataset, batch_size=batch_size, shuffle=True)"
      ],
      "metadata": {
        "id": "uCqrZmMC69mc"
      },
      "execution_count": null,
      "outputs": []
    },
    {
      "cell_type": "code",
      "source": [
        "len(test_loader)"
      ],
      "metadata": {
        "colab": {
          "base_uri": "https://localhost:8080/"
        },
        "id": "ze4I0cqa8Mdd",
        "outputId": "5732547f-2d1e-40ac-8b43-125dd650d066"
      },
      "execution_count": null,
      "outputs": [
        {
          "output_type": "execute_result",
          "data": {
            "text/plain": [
              "33"
            ]
          },
          "metadata": {},
          "execution_count": 75
        }
      ]
    },
    {
      "cell_type": "code",
      "source": [
        "len(validation_loader)"
      ],
      "metadata": {
        "colab": {
          "base_uri": "https://localhost:8080/"
        },
        "id": "J6tqsbjV8Fye",
        "outputId": "05b189d7-8532-4029-c07d-284ba5622e5c"
      },
      "execution_count": null,
      "outputs": [
        {
          "output_type": "execute_result",
          "data": {
            "text/plain": [
              "26"
            ]
          },
          "metadata": {},
          "execution_count": 76
        }
      ]
    },
    {
      "cell_type": "code",
      "source": [
        "len(train_loader)"
      ],
      "metadata": {
        "colab": {
          "base_uri": "https://localhost:8080/"
        },
        "id": "Hw3MFiXs513M",
        "outputId": "40bdc1b7-43ac-4101-f0c2-c5dfbfba1367"
      },
      "execution_count": null,
      "outputs": [
        {
          "output_type": "execute_result",
          "data": {
            "text/plain": [
              "103"
            ]
          },
          "metadata": {},
          "execution_count": 77
        }
      ]
    },
    {
      "cell_type": "code",
      "source": [
        "train_loss_list=[]\n",
        "validation_loss_list=[]\n",
        "test_loss_list=[]\n",
        "training_accuracy_list=[]\n",
        "validation_accuracy_list=[]\n",
        "test_accuracy_list=[]"
      ],
      "metadata": {
        "id": "X3-qcMsN7Oc5"
      },
      "execution_count": null,
      "outputs": []
    },
    {
      "cell_type": "code",
      "source": [
        "epochs_list=[x for x in range(NUM_EPOCHS)]"
      ],
      "metadata": {
        "id": "uQhbIHYE5GnJ"
      },
      "execution_count": null,
      "outputs": []
    },
    {
      "cell_type": "code",
      "source": [
        "epochs_list"
      ],
      "metadata": {
        "colab": {
          "base_uri": "https://localhost:8080/"
        },
        "id": "tbUohcPz93QG",
        "outputId": "51c696ff-5e15-41a9-9334-eb0dc4a98911"
      },
      "execution_count": null,
      "outputs": [
        {
          "output_type": "execute_result",
          "data": {
            "text/plain": [
              "[0, 1, 2, 3, 4, 5, 6, 7, 8, 9, 10, 11, 12, 13, 14, 15, 16, 17, 18, 19]"
            ]
          },
          "metadata": {},
          "execution_count": 80
        }
      ]
    },
    {
      "cell_type": "code",
      "source": [
        "import numpy as np"
      ],
      "metadata": {
        "id": "6qZBBCc0Lt-a"
      },
      "execution_count": null,
      "outputs": []
    },
    {
      "cell_type": "code",
      "source": [
        "# Iterate over the dataset\n",
        "for epoch in range(NUM_EPOCHS):\n",
        "    total=0\n",
        "    correct=0\n",
        "    batch=0\n",
        "\n",
        "    accumulated_loss=0\n",
        "    model.train()\n",
        "    for images, labels in train_loader:\n",
        "        # batch+=1\n",
        "        # Forward pass\n",
        "        outputs = model(images)\n",
        "        # print(labels)\n",
        "        # print('output........',outputs)\n",
        "        # print('logits.......',logits)\n",
        "        loss = criterion(outputs, labels)\n",
        "\n",
        "        # Backward pass and optimization\n",
        "        optimizer.zero_grad()\n",
        "        loss.backward()\n",
        "        optimizer.step()\n",
        "        _, predicted = torch.max(outputs, 1)\n",
        "        total += labels.size(0)\n",
        "        correct += (predicted == labels).sum().item()\n",
        "        accumulated_loss+=loss.detach().numpy().astype(np.float64)\n",
        "        # print(accumulated_loss)\n",
        "        # print(type(accumulated_loss))\n",
        "        # if (batch%200==0):\n",
        "        #   print(f'Accumulated train loss: {accumulated_train_loss} loop count: {inner_loop_counter_train}')\n",
        "        #   print(f'Loss for {batch}/{len(train_loader)} of {epoch} epochs is: ',train_loss)\n",
        "          # break\n",
        "        # if(batch==2):\n",
        "        #   break\n",
        "    training_accuracy = correct / total\n",
        "    training_accuracy_list.append(training_accuracy)\n",
        "    print(f'EPOCH{epoch}....................')\n",
        "    print('Accuracy on training set: {}%'.format(100 * training_accuracy))\n",
        "    train_loss_list.append(accumulated_loss/len(train_loader))\n",
        "\n",
        "    correct = 0\n",
        "    total = 0\n",
        "    accumulated_loss=0\n",
        "\n",
        "    #Evaluation\n",
        "    model.eval()\n",
        "    with torch.inference_mode():\n",
        "      for images, labels in validation_loader:\n",
        "        outputs = model(images)\n",
        "        loss=criterion(outputs,labels)\n",
        "        _, predicted = torch.max(outputs.data, 1)\n",
        "        total += labels.size(0)\n",
        "        correct += (predicted == labels).sum().item()\n",
        "        accumulated_loss+=loss.detach().numpy().astype(np.float64)\n",
        "\n",
        "      validation_loss_list.append(accumulated_loss/len(validation_loader))\n",
        "      validation_accuracy=correct/total\n",
        "      print(f'EPOCH{epoch}.......')\n",
        "      print('Accuracy on validation set: {}%'.format(100 * validation_accuracy))\n",
        "      validation_accuracy_list.append(validation_accuracy)\n",
        "\n",
        "    correct = 0\n",
        "    total = 0\n",
        "    accumulated_loss=0\n",
        "    #Testing\n",
        "    model.eval()\n",
        "    with torch.inference_mode():\n",
        "      for images, labels in test_loader:\n",
        "        outputs = model(images)\n",
        "        loss=criterion(outputs,labels)\n",
        "        _, predicted = torch.max(outputs.data, 1)\n",
        "        total += labels.size(0)\n",
        "        correct += (predicted == labels).sum().item()\n",
        "        accumulated_loss+=loss.detach().numpy().astype(np.float64)\n",
        "      test_loss_list.append(accumulated_loss/len(test_loader))\n",
        "      test_accuracy=correct/total\n",
        "      print(f'EPOCH{epoch}...................')\n",
        "      print('Accuracy on test set: {}%'.format(100 * test_accuracy))\n",
        "      test_accuracy_list.append(test_accuracy)\n",
        "\n",
        "\n",
        "print('training finished....')\n",
        "from pathlib import Path\n",
        "MODEL_PATH=Path(\"models\")\n",
        "MODEL_PATH.mkdir(parents=True,exist_ok=True)\n",
        "MODEL_NAME=\"Dataset3_ShuffleNet.pth\"\n",
        "MODEL_SAVE_PATH=MODEL_PATH/MODEL_NAME\n",
        "print(f\"Model saving in...{MODEL_SAVE_PATH}\")\n",
        "torch.save(obj=model.state_dict(),f=MODEL_SAVE_PATH)"
      ],
      "metadata": {
        "id": "79yigujR7Q7u",
        "colab": {
          "base_uri": "https://localhost:8080/"
        },
        "outputId": "afe592c6-b9c5-40de-ca20-52cf503f7afa"
      },
      "execution_count": null,
      "outputs": [
        {
          "output_type": "stream",
          "name": "stdout",
          "text": [
            "EPOCH0....................\n",
            "Accuracy on training set: 60.92896174863388%\n",
            "EPOCH0.......\n",
            "Accuracy on validation set: 53.03398058252428%\n",
            "EPOCH0...................\n",
            "Accuracy on test set: 55.04854368932038%\n",
            "EPOCH1....................\n",
            "Accuracy on training set: 84.12264723740134%\n",
            "EPOCH1.......\n",
            "Accuracy on validation set: 74.87864077669903%\n",
            "EPOCH1...................\n",
            "Accuracy on test set: 76.60194174757281%\n",
            "EPOCH2....................\n",
            "Accuracy on training set: 90.98360655737704%\n",
            "EPOCH2.......\n",
            "Accuracy on validation set: 93.3252427184466%\n",
            "EPOCH2...................\n",
            "Accuracy on test set: 92.33009708737863%\n",
            "EPOCH3....................\n",
            "Accuracy on training set: 93.53369763205829%\n",
            "EPOCH3.......\n",
            "Accuracy on validation set: 86.77184466019418%\n",
            "EPOCH3...................\n",
            "Accuracy on test set: 86.60194174757282%\n",
            "EPOCH4....................\n",
            "Accuracy on training set: 95.7498482088646%\n",
            "EPOCH4.......\n",
            "Accuracy on validation set: 95.02427184466019%\n",
            "EPOCH4...................\n",
            "Accuracy on test set: 94.75728155339806%\n",
            "EPOCH5....................\n",
            "Accuracy on training set: 95.53734061930783%\n",
            "EPOCH5.......\n",
            "Accuracy on validation set: 91.86893203883496%\n",
            "EPOCH5...................\n",
            "Accuracy on test set: 89.90291262135922%\n",
            "EPOCH6....................\n",
            "Accuracy on training set: 97.29811778992106%\n",
            "EPOCH6.......\n",
            "Accuracy on validation set: 97.0873786407767%\n",
            "EPOCH6...................\n",
            "Accuracy on test set: 97.18446601941747%\n",
            "EPOCH7....................\n",
            "Accuracy on training set: 96.59987856709168%\n",
            "EPOCH7.......\n",
            "Accuracy on validation set: 96.11650485436894%\n",
            "EPOCH7...................\n",
            "Accuracy on test set: 93.00970873786409%\n",
            "EPOCH8....................\n",
            "Accuracy on training set: 96.87310261080752%\n",
            "EPOCH8.......\n",
            "Accuracy on validation set: 92.35436893203884%\n",
            "EPOCH8...................\n",
            "Accuracy on test set: 91.94174757281553%\n",
            "EPOCH9....................\n",
            "Accuracy on training set: 97.99635701275045%\n",
            "EPOCH9.......\n",
            "Accuracy on validation set: 97.4514563106796%\n",
            "EPOCH9...................\n",
            "Accuracy on test set: 97.86407766990291%\n",
            "EPOCH10....................\n",
            "Accuracy on training set: 98.26958105646631%\n",
            "EPOCH10.......\n",
            "Accuracy on validation set: 94.05339805825243%\n",
            "EPOCH10...................\n",
            "Accuracy on test set: 90.87378640776699%\n",
            "EPOCH11....................\n",
            "Accuracy on training set: 99.18032786885246%\n",
            "EPOCH11.......\n",
            "Accuracy on validation set: 97.81553398058253%\n",
            "EPOCH11...................\n",
            "Accuracy on test set: 97.86407766990291%\n",
            "EPOCH12....................\n",
            "Accuracy on training set: 99.48391013964785%\n",
            "EPOCH12.......\n",
            "Accuracy on validation set: 95.63106796116504%\n",
            "EPOCH12...................\n",
            "Accuracy on test set: 95.72815533980582%\n",
            "EPOCH13....................\n",
            "Accuracy on training set: 98.69459623557985%\n",
            "EPOCH13.......\n",
            "Accuracy on validation set: 97.0873786407767%\n",
            "EPOCH13...................\n",
            "Accuracy on test set: 97.66990291262137%\n",
            "EPOCH14....................\n",
            "Accuracy on training set: 99.24104432301154%\n",
            "EPOCH14.......\n",
            "Accuracy on validation set: 98.17961165048543%\n",
            "EPOCH14...................\n",
            "Accuracy on test set: 98.54368932038835%\n",
            "EPOCH15....................\n",
            "Accuracy on training set: 99.11961141469338%\n",
            "EPOCH15.......\n",
            "Accuracy on validation set: 97.81553398058253%\n",
            "EPOCH15...................\n",
            "Accuracy on test set: 97.96116504854369%\n",
            "EPOCH16....................\n",
            "Accuracy on training set: 99.72677595628416%\n",
            "EPOCH16.......\n",
            "Accuracy on validation set: 98.17961165048543%\n",
            "EPOCH16...................\n",
            "Accuracy on test set: 98.15533980582525%\n",
            "EPOCH17....................\n",
            "Accuracy on training set: 98.87674559805707%\n",
            "EPOCH17.......\n",
            "Accuracy on validation set: 95.87378640776699%\n",
            "EPOCH17...................\n",
            "Accuracy on test set: 96.99029126213591%\n",
            "EPOCH18....................\n",
            "Accuracy on training set: 99.14996964177291%\n",
            "EPOCH18.......\n",
            "Accuracy on validation set: 98.30097087378641%\n",
            "EPOCH18...................\n",
            "Accuracy on test set: 98.54368932038835%\n",
            "EPOCH19....................\n",
            "Accuracy on training set: 99.57498482088646%\n",
            "EPOCH19.......\n",
            "Accuracy on validation set: 98.66504854368931%\n",
            "EPOCH19...................\n",
            "Accuracy on test set: 98.54368932038835%\n",
            "training finished....\n",
            "Model saving in...models/Dataset3_ShuffleNet.pth\n"
          ]
        }
      ]
    },
    {
      "cell_type": "code",
      "source": [
        "print(epochs_list)\n",
        "print(train_loss_list)\n",
        "print(validation_loss_list)\n",
        "print(test_loss_list)"
      ],
      "metadata": {
        "colab": {
          "base_uri": "https://localhost:8080/"
        },
        "id": "U-DI3VVWYAsC",
        "outputId": "e895ca89-ee9a-4825-c47f-ca9eee287b77"
      },
      "execution_count": null,
      "outputs": [
        {
          "output_type": "stream",
          "name": "stdout",
          "text": [
            "[0, 1, 2, 3, 4, 5, 6, 7, 8, 9, 10, 11, 12, 13, 14, 15, 16, 17, 18, 19]\n",
            "[0.8418255566971974, 0.39983935089944633, 0.238903312066805, 0.1859863531115709, 0.12298754949882193, 0.120365830599466, 0.08797249014860073, 0.10966501618708366, 0.0988681804008999, 0.051301680240798196, 0.05014145340503745, 0.026348660088842735, 0.015782300243549756, 0.04290958629407947, 0.02217246308607429, 0.02225576524124865, 0.010234476648919844, 0.031052227515458282, 0.023039988903283567, 0.013205640866518363]\n",
            "[3.501312549297626, 0.5929958860461528, 0.22875654998307043, 0.38802321513111776, 0.16415988661062259, 0.26314909312014395, 0.09359612657079616, 0.1069439292813723, 0.1996619629028898, 0.07856541051744269, 0.19410262529093486, 0.06496721079859596, 0.15708478389737698, 0.08155826982021189, 0.053457405839043744, 0.07297357478035757, 0.07312889580834263, 0.11979858708890298, 0.0612946208476877, 0.04552941857008801]\n",
            "[3.4687622930064346, 0.5565629475044481, 0.2153757235430407, 0.40328633469162567, 0.17246523629309554, 0.29037448876734934, 0.09478875246096516, 0.16917359013336175, 0.23637485334819014, 0.06304653963977189, 0.23629766284967912, 0.06090652822538025, 0.1335416140218237, 0.07117705828347949, 0.04683248495160969, 0.058600672132646046, 0.05952097476807522, 0.12313445753446131, 0.053665018238296565, 0.04398969291166092]\n"
          ]
        }
      ]
    },
    {
      "cell_type": "code",
      "source": [
        "# import numpy as np\n",
        "# numpy_training_loss_list=[tensor.detach().numpy().astype(np.float64) for tensor in train_loss_list]\n",
        "# numpy_array_training_loss= np.array(numpy_training_loss_list)\n",
        "# numpy_validation_loss_list=[tensor.detach().numpy().astype(np.float64) for tensor in validation_loss_list]\n",
        "# numpy_array_validation_loss= np.array(numpy_validation_loss_list)\n",
        "# numpy_test_loss_list=[tensor.detach().numpy().astype(np.float64) for tensor in test_loss_list]\n",
        "# numpy_array_test_loss= np.array(numpy_test_loss_list)\n",
        "# print(numpy_array_training_loss.shape,numpy_array_validation_loss.shape,numpy_array_test_loss.shape)"
      ],
      "metadata": {
        "id": "_5I2xEimQqH5",
        "colab": {
          "base_uri": "https://localhost:8080/"
        },
        "outputId": "fd54bb29-ec1e-426e-8b8a-b4e257bb0974"
      },
      "execution_count": null,
      "outputs": [
        {
          "output_type": "stream",
          "name": "stdout",
          "text": [
            "(1,) (1,) (1,)\n"
          ]
        }
      ]
    },
    {
      "cell_type": "code",
      "source": [
        "epochs_list"
      ],
      "metadata": {
        "id": "32iMfYl2Q7of",
        "colab": {
          "base_uri": "https://localhost:8080/"
        },
        "outputId": "50dadf8e-fa93-4adf-c2c3-680f94726cb2"
      },
      "execution_count": null,
      "outputs": [
        {
          "output_type": "execute_result",
          "data": {
            "text/plain": [
              "[0]"
            ]
          },
          "metadata": {},
          "execution_count": 47
        }
      ]
    },
    {
      "cell_type": "code",
      "source": [
        "import matplotlib.pyplot as plt\n",
        "from google.colab import files\n",
        "fig,ax=plt.subplots()\n",
        "ax.plot(epochs_list,train_loss_list,'g',label='Training Loss')\n",
        "ax.plot(epochs_list,validation_loss_list,'b',label='Validation Loss')\n",
        "ax.plot(epochs_list,test_loss_list,'r',label='Test Loss')\n",
        "ax.plot()\n",
        "ax.set_title('ShuffleNet Loss Comparisions on dataset3')\n",
        "ax.set_xlabel('Number of epochs')\n",
        "ax.set_ylabel('Loss')\n",
        "ax.legend()\n",
        "plt.savefig('Dataset3_ShuffleNet_Loss3.png')\n",
        "files.download('Dataset3_ShuffleNet_Loss3.png')\n",
        "plt.show()"
      ],
      "metadata": {
        "id": "ciQzid8vQ4Tt",
        "colab": {
          "base_uri": "https://localhost:8080/",
          "height": 472
        },
        "outputId": "af8d42c3-2a67-4c7f-a065-d9f8e6711da3"
      },
      "execution_count": null,
      "outputs": [
        {
          "output_type": "display_data",
          "data": {
            "text/plain": [
              "<IPython.core.display.Javascript object>"
            ],
            "application/javascript": [
              "\n",
              "    async function download(id, filename, size) {\n",
              "      if (!google.colab.kernel.accessAllowed) {\n",
              "        return;\n",
              "      }\n",
              "      const div = document.createElement('div');\n",
              "      const label = document.createElement('label');\n",
              "      label.textContent = `Downloading \"${filename}\": `;\n",
              "      div.appendChild(label);\n",
              "      const progress = document.createElement('progress');\n",
              "      progress.max = size;\n",
              "      div.appendChild(progress);\n",
              "      document.body.appendChild(div);\n",
              "\n",
              "      const buffers = [];\n",
              "      let downloaded = 0;\n",
              "\n",
              "      const channel = await google.colab.kernel.comms.open(id);\n",
              "      // Send a message to notify the kernel that we're ready.\n",
              "      channel.send({})\n",
              "\n",
              "      for await (const message of channel.messages) {\n",
              "        // Send a message to notify the kernel that we're ready.\n",
              "        channel.send({})\n",
              "        if (message.buffers) {\n",
              "          for (const buffer of message.buffers) {\n",
              "            buffers.push(buffer);\n",
              "            downloaded += buffer.byteLength;\n",
              "            progress.value = downloaded;\n",
              "          }\n",
              "        }\n",
              "      }\n",
              "      const blob = new Blob(buffers, {type: 'application/binary'});\n",
              "      const a = document.createElement('a');\n",
              "      a.href = window.URL.createObjectURL(blob);\n",
              "      a.download = filename;\n",
              "      div.appendChild(a);\n",
              "      a.click();\n",
              "      div.remove();\n",
              "    }\n",
              "  "
            ]
          },
          "metadata": {}
        },
        {
          "output_type": "display_data",
          "data": {
            "text/plain": [
              "<IPython.core.display.Javascript object>"
            ],
            "application/javascript": [
              "download(\"download_6e838caa-6277-4c24-9597-c2d7fe04df03\", \"Dataset3_ShuffleNet_Loss3.png\", 35507)"
            ]
          },
          "metadata": {}
        },
        {
          "output_type": "display_data",
          "data": {
            "text/plain": [
              "<Figure size 640x480 with 1 Axes>"
            ],
            "image/png": "[encoded data removed]"
          },
          "metadata": {}
        }
      ]
    },
    {
      "cell_type": "code",
      "source": [
        "import matplotlib.pyplot as plt\n",
        "from google.colab import files\n",
        "fig,ax=plt.subplots()\n",
        "ax.plot(epochs_list,training_accuracy_list,'g',label='Training Accuracy')\n",
        "ax.plot(epochs_list,validation_accuracy_list,'b',label='Validation Accuracy')\n",
        "ax.plot(epochs_list,test_accuracy_list,'r',label='Test Accuracy')\n",
        "ax.plot()\n",
        "ax.set_title('ShuffleNet Accuracy Comparision on dataset 3')\n",
        "ax.set_xlabel('Number of epochs')\n",
        "ax.set_ylabel('Accuracy')\n",
        "ax.legend()\n",
        "plt.savefig('Dataset3_ShuffleNet_Accuracy3.png')\n",
        "files.download('Dataset3_ShuffleNet_Accuracy3.png')\n",
        "plt.show()"
      ],
      "metadata": {
        "id": "1kt2vivhRJLf",
        "colab": {
          "base_uri": "https://localhost:8080/",
          "height": 472
        },
        "outputId": "92544c51-a9bc-4509-b4c3-f4c97a4f6625"
      },
      "execution_count": null,
      "outputs": [
        {
          "output_type": "display_data",
          "data": {
            "text/plain": [
              "<IPython.core.display.Javascript object>"
            ],
            "application/javascript": [
              "\n",
              "    async function download(id, filename, size) {\n",
              "      if (!google.colab.kernel.accessAllowed) {\n",
              "        return;\n",
              "      }\n",
              "      const div = document.createElement('div');\n",
              "      const label = document.createElement('label');\n",
              "      label.textContent = `Downloading \"${filename}\": `;\n",
              "      div.appendChild(label);\n",
              "      const progress = document.createElement('progress');\n",
              "      progress.max = size;\n",
              "      div.appendChild(progress);\n",
              "      document.body.appendChild(div);\n",
              "\n",
              "      const buffers = [];\n",
              "      let downloaded = 0;\n",
              "\n",
              "      const channel = await google.colab.kernel.comms.open(id);\n",
              "      // Send a message to notify the kernel that we're ready.\n",
              "      channel.send({})\n",
              "\n",
              "      for await (const message of channel.messages) {\n",
              "        // Send a message to notify the kernel that we're ready.\n",
              "        channel.send({})\n",
              "        if (message.buffers) {\n",
              "          for (const buffer of message.buffers) {\n",
              "            buffers.push(buffer);\n",
              "            downloaded += buffer.byteLength;\n",
              "            progress.value = downloaded;\n",
              "          }\n",
              "        }\n",
              "      }\n",
              "      const blob = new Blob(buffers, {type: 'application/binary'});\n",
              "      const a = document.createElement('a');\n",
              "      a.href = window.URL.createObjectURL(blob);\n",
              "      a.download = filename;\n",
              "      div.appendChild(a);\n",
              "      a.click();\n",
              "      div.remove();\n",
              "    }\n",
              "  "
            ]
          },
          "metadata": {}
        },
        {
          "output_type": "display_data",
          "data": {
            "text/plain": [
              "<IPython.core.display.Javascript object>"
            ],
            "application/javascript": [
              "download(\"download_40add284-b334-4b89-af4c-6d0834ae9be5\", \"Dataset3_ShuffleNet_Accuracy3.png\", 43496)"
            ]
          },
          "metadata": {}
        },
        {
          "output_type": "display_data",
          "data": {
            "text/plain": [
              "<Figure size 640x480 with 1 Axes>"
            ],
            "image/png": "[encoded data removed]"
          },
          "metadata": {}
        }
      ]
    }
  ]
}